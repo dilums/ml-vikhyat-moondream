{
  "cells": [
    {
      "cell_type": "code",
      "source": [
        "! pip install -qU transformers timm einops"
      ],
      "metadata": {
        "id": "keMbcX1Oog7o"
      },
      "execution_count": 1,
      "outputs": []
    },
    {
      "cell_type": "code",
      "source": [
        "from transformers import AutoModelForCausalLM, AutoTokenizer\n",
        "from PIL import Image\n",
        "\n",
        "model_id = \"vikhyatk/moondream2\"\n",
        "revision = \"2024-03-13\"\n",
        "model = AutoModelForCausalLM.from_pretrained(\n",
        "    model_id, trust_remote_code=True, revision=revision\n",
        ")\n",
        "tokenizer = AutoTokenizer.from_pretrained(model_id, revision=revision)"
      ],
      "metadata": {
        "id": "LIsynZkbo9GG"
      },
      "execution_count": null,
      "outputs": []
    },
    {
      "cell_type": "code",
      "source": [
        "image = Image.open('/content/images/demo-1.jpg')\n",
        "enc_image = model.encode_image(image)\n",
        "print(model.answer_question(enc_image, \"Describe this image.\", tokenizer))"
      ],
      "metadata": {
        "colab": {
          "base_uri": "https://localhost:8080/"
        },
        "id": "oi0V-S7Dp6Vn",
        "outputId": "b1d94361-6ed2-4162-cad1-8b7c0dd4daea"
      },
      "execution_count": 3,
      "outputs": [
        {
          "output_type": "stream",
          "name": "stdout",
          "text": [
            "The image features a young girl sitting at a dining table, enjoying a meal. She is holding a large hamburger in her hands, taking a bite of it. The girl is wearing a white outfit, which stands out in the scene.\n",
            "\n",
            "There are a few other people in the room, with one person standing near the left side of the image and another person on the right side. A chair is also visible in the background, placed near the right side of the table. The dining table occupies most of the space in the room, with the girl sitting on it while eating her meal.\n"
          ]
        }
      ]
    }
  ],
  "metadata": {
    "colab": {
      "gpuType": "V100",
      "provenance": []
    },
    "kernelspec": {
      "display_name": "Python 3",
      "name": "python3"
    },
    "language_info": {
      "name": "python"
    }
  },
  "nbformat": 4,
  "nbformat_minor": 0
}